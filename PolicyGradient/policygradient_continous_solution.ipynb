{
 "cells": [
  {
   "attachments": {},
   "cell_type": "markdown",
   "metadata": {},
   "source": [
    "# Implementing the Continous Policy Gradient Algorithm\n",
    "\n",
    "In the [previous notebook](policygradient_discrete_solution.ipynb), we implemented the policy gradient algorithm for a discrete action space. In this notebook, we will implement the policy gradient algorithm for a continous action space.\n",
    "\n",
    "First, let's review the central training loop of policy gradient algorithms:\n",
    "\n",
    "* Collect $N$ trajectories: \n",
    "    * Do $N$ times:\n",
    "        * For $T$ timesteps:\n",
    "            * Collect observation $s_t$ from the environment\n",
    "            * **(1)** Randomly sample an action $a_t$ from the policy $\\pi_\\theta(a|s)$\n",
    "            * Execute the action $a_t$ in the environment, collecting the reward $r_t$\n",
    "* For each trajectory $\\tau_i$:\n",
    "    * For each timestep $t$ in $\\tau_i$:\n",
    "        * Compute the reward-to-go:\n",
    "            * $\\hat{R}_t(\\tau_i) = \\sum_{t'=t}^T \\gamma^{t'-t}r_{t'}$\n",
    "* Compute the policy gradient estimate:\n",
    "    * For each trajectory $\\tau_i$:\n",
    "        * For each timestep $t$ in $\\tau_i$:\n",
    "            * **(2)** Compute the log probability of the action chosen at that timestep:\n",
    "                * $\\log\\pi_\\theta(a_t|s_t)$\n",
    "        * Using the log-probability of the action and the reward-to-go (both computed above) compute the policy gradient of this trajectory:\n",
    "            * $\\sum_{t=0}^T \\nabla_\\theta \\log\\pi_\\theta(a_t|s_t) \\hat{R}_t(\\tau_i)$\n",
    "    * Compute the mean of the policy gradient estimates (Monte Carlo estimate of the policy gradient):\n",
    "        * $\\nabla_{\\theta} J(\\pi_{\\theta}) \\approx \\frac{1}{N}\\sum_{i=0}^N \\sum_{t=0}^T \\nabla_\\theta \\log\\pi_\\theta(a_t|s_t) \\hat{R}_t(\\tau_i)$\n",
    "* Update the policy parameters $\\theta$ using the policy gradient estimate:\n",
    "    * $\\theta \\leftarrow \\theta + \\alpha \\nabla_{\\theta} J(\\pi_{\\theta})$\n",
    "    \n",
    "This loop stays the same for continous action spaces. The only difference is that we need to change the way we do **(1)** and **(2)** above.\n",
    "\n",
    "#### Discrete Case\n",
    "Let's think back to the discrete case. Our neural network output a set of probabilities, one for each action we could take. Formally, these probabilities formed a [categorical probability distribution](https://en.wikipedia.org/wiki/Categorical_distribution) over the actions.\n",
    "\n",
    "Here's how we accomplished **(1)** and **(2)**:\n",
    "* **(1)**: we used the `torch.multinomial` function, which samples from a categorical distribution.\n",
    "* **(2)**: all we had to do was take the log of the probability of the chosen action.\n",
    "#### Continous Case\n",
    "We can't do this in the continuous case, because there are an infinite number of actions we could take. Instead, we need to use a different type of probability distribution: a [multivariate Gaussian distribution](https://en.wikipedia.org/wiki/Multivariate_normal_distribution). Our network will output the mean and standard deviation of this Gaussian distribution, and we will sample from it to get an action.\n",
    "\n",
    "Here's how we will accomplish **(1)** and **(2)**:\n",
    "* **(1)**: we will use the `torch.normal` function, which samples from a multivariate Gaussian distribution.\n",
    "* **(2)**: we will use the `torch.distributions.MultivariateNormal` class, which computes the log probability of a sample from a multivariate Gaussian distribution.\n",
    "\n",
    "### Why Gaussians?\n",
    "The reason we're talking about Gaussians in the first place is that we want to get a distribution we can sample from to generate a real number.\n",
    "The choice of distribution is purely empirical. We could choose some other probability function to sample from, and it might work.\n",
    "However, Gaussians are a very common choice for probability distributions, for the following reasons:\n",
    "1. Gaussians have nice mathematical properties. For example, the sum of two Gaussian random variables is also a Gaussian random variable.\n",
    "2. Gaussians are very common in nature, due to the [central limit theorem](https://en.wikipedia.org/wiki/Central_limit_theorem)\n",
    "3. Gaussians are unimodal, which is important for the network to learn stable policies.\n",
    "\n",
    "## Gaussians and their Properties\n",
    "\n",
    "Before we dive too deep into coding the implementation, let's review some properties of Gaussians, starting with 1D Gaussians.\n",
    "\n",
    "#### Univariate Gaussians\n",
    "The formula for a 1D Gaussian distribution is:\n",
    "$$\n",
    "\\mathcal{N}(x; \\mu, \\sigma^2) = \\frac{1}{\\sqrt{2\\pi\\sigma^2}}e^{-\\frac{(x-\\mu)^2}{2\\sigma^2}}\n",
    "$$\n",
    "Here's what it would look like if we plotted it:\n",
    "\n",
    "![1D Gaussian Distribution with labeled mean and standard deviation](./normdist01_big.JPG)\n",
    "\n",
    "*(Image source: https://www.nohsteachers.info/rlinden/statistics/Sect5/section5_4.htm )*\n",
    "\n",
    "A 1D gaussian is completely described by two parameters: the mean and the standard deviation. The mean ($\\mu$) is the center of the distribution. The standard deviation ($\\sigma$) is a measure of how spread out the distribution is.\n",
    "\n",
    "Since the Gaussian is a probability distribution, we are able to sample from it.\n",
    "We denote a random variable sampled from a Gaussian distribution with mean $\\mu$ and standard deviation $\\sigma$ as:\n",
    "$$\n",
    "X \\sim \\mathcal{N}(\\mu, \\sigma^2)\n",
    "$$\n",
    "\n",
    "You are less likely to sample values that are far away from the mean, and more likely to sample values that are close to the mean.\n",
    "For 1D Gaussian distributions, the **empirical rule** offers a short description of how likely samples are to fall within a certain number of standard deviations from the mean:\n",
    "- 68% of the samples will be within 1 standard deviation of the mean\n",
    "- 95% of the samples will be within 2 standard deviations of the mean\n",
    "- 99.7% of the samples will be within 3 standard deviations of the mean\n",
    "\n",
    "#### Multivariate Gaussians\n",
    "We can have more than one dimension in a Gaussian distribution. These types of distributions are called multivariate Gaussian distributions. The formula for a multivariate Gaussian distribution is:\n",
    "$$\n",
    "\\mathcal{N}(\\mathbf{x}; \\mathbf{\\mu}, \\Sigma) = \\frac{1}{\\sqrt{(2\\pi)^n|\\Sigma|}}\\exp\\left(-\\frac{1}{2}(\\mathbf{x}-\\mathbf{\\mu})^T\\Sigma^{-1}(\\mathbf{x}-\\mathbf{\\mu})\\right)\n",
    "$$\n",
    "\n",
    "There are a couple of differences between the formulas for univariate and multivariate Gaussian distributions:\n",
    "1. $x$ is now a vector instead of a scalar. This means that the Gaussian is now a distribution over n-dimensional space instead of a distribution over a line.\n",
    "    * In the context of reinforcement learning, each element of $x$ corresponds to an output of the policy.\n",
    "    * In a policy controlling a robot arm, $x$ would be a vector of joint angles, one for each joint.   \n",
    "2. The mean is now a vector instead of a scalar. This means that the mean is now a point in n-dimensional space instead of a point on a line.\n",
    "3. The standard deviation is now a covariance matrix, denoted $\\Sigma$. Briefly, the covariance matrix is a matrix that describes the covariance between each pair of elements in $x$.\n",
    "    \n",
    "#### Covariance Matrix\n",
    "\n",
    "A covariance matrix is constructed as:\n",
    "$$\n",
    "\\Sigma = \\begin{bmatrix}\n",
    "\\sigma_{1}^2 & \\sigma_{1}\\sigma_{2} & \\sigma_{1}\\sigma_{3} & \\dots  & \\sigma_{1}\\sigma_{n} \\\\\n",
    "\\sigma_{2}\\sigma_{1} & \\sigma_{2}^2 & \\sigma_{2}\\sigma_{3} & \\dots  & \\sigma_{2}\\sigma_{n} \\\\\n",
    "\\vdots & \\vdots & \\vdots & \\ddots & \\vdots \\\\\n",
    "\\sigma_{n}\\sigma_{1} & \\sigma_{n}\\sigma_{2} & \\sigma_{n}\\sigma_{3} & \\dots  & \\sigma_{n}^2\n",
    "\\end{bmatrix}\n",
    "$$\n",
    "\n",
    "The diagonal elements of the covariance matrix are the variances of each element of $x$. The off-diagonal elements are the covariances between each pair of elements of $x$.\n",
    "\n",
    "The covariance between two elements of $x$ is a measure of how much they change together. If the covariance is positive, then the two elements change together. If the covariance is negative, then the two elements change in opposite directions. If the covariance is zero, then the two elements are independent of each other.\n",
    "\n",
    "#### Diagonal Gaussian Policies\n",
    "\n",
    "In this notebook, we will use a diagonal Gaussian policy. A diagonal Gaussian policy is a Gaussian distribution where the covariance matrix is diagonal, and all the off-diagonal elements are zero. This means that the covariance between any two actions is zero. This means that the actions are independent of each other. \n",
    "\n",
    "This is a simplifying assumption that makes the math easier. "
   ]
  },
  {
   "attachments": {},
   "cell_type": "markdown",
   "metadata": {},
   "source": [
    "## Implementation\n",
    "\n",
    "Now that we have the requisite background, let's implement the policy gradient algorithm for a continous action space.\n",
    "\n",
    "We'll first copy over all of the code that is unchanged from the discrete policy gradient solution:"
   ]
  },
  {
   "cell_type": "code",
   "execution_count": 1,
   "metadata": {},
   "outputs": [
    {
     "name": "stdout",
     "output_type": "stream",
     "text": [
      "Successfully registered the following environments: ['MetaDrive-validation-v0', 'MetaDrive-10env-v0', 'MetaDrive-100envs-v0', 'MetaDrive-1000envs-v0', 'SafeMetaDrive-validation-v0', 'SafeMetaDrive-10env-v0', 'SafeMetaDrive-100envs-v0', 'SafeMetaDrive-1000envs-v0', 'MARLTollgate-v0', 'MARLBottleneck-v0', 'MARLRoundabout-v0', 'MARLIntersection-v0', 'MARLParkingLot-v0', 'MARLMetaDrive-v0'].\n"
     ]
    }
   ],
   "source": [
    "# We need to import metadrive to register the environments\n",
    "import metadrive\n",
    "import gymnasium as gym\n",
    "import typing\n",
    "from dataclasses import dataclass\n",
    "import numpy as np\n",
    "import numpy.typing as npt\n",
    "import torch\n",
    "import torch.nn as nn\n",
    "import torch.nn.functional as F\n",
    "\n",
    "\n",
    "def collect_trajectory(env:gym.Env, policy:typing.Callable[[npt.NDArray], tuple[float, float]]) -> tuple[list[npt.NDArray], list[tuple[float, float]], list[float]]:\n",
    "    \"\"\"\n",
    "    Collect a trajectory from the environment using the given policy\n",
    "    \"\"\"\n",
    "    observations = []\n",
    "    actions = []\n",
    "    rewards = []\n",
    "    obs, info = env.reset()\n",
    "    \n",
    "    while True:\n",
    "        observations.append(obs)\n",
    "        action = policy(obs)\n",
    "        actions.append(action)\n",
    "        obs, reward, terminated, truncated, info = env.step(action)\n",
    "        rewards.append(reward)\n",
    "        if terminated or truncated:\n",
    "            break\n",
    "\n",
    "    return observations, actions, rewards\n"
   ]
  },
  {
   "cell_type": "code",
   "execution_count": 2,
   "metadata": {},
   "outputs": [],
   "source": [
    "def rewards_to_go(trajectory_rewards: list[float], gamma: float) -> list[float]:\n",
    "    \"\"\"\n",
    "    Computes the gamma discounted reward-to-go for each state in the trajectory.\n",
    "    \"\"\"\n",
    "\n",
    "    trajectory_len = len(trajectory_rewards)\n",
    "\n",
    "    v_batch = np.zeros(trajectory_len)\n",
    "\n",
    "    v_batch[-1] = trajectory_rewards[-1]\n",
    "\n",
    "    # Use gamma to decay the advantage\n",
    "    for t in reversed(range(trajectory_len - 1)):\n",
    "        v_batch[t] = trajectory_rewards[t] + gamma * v_batch[t + 1]\n",
    "\n",
    "    return list(v_batch)"
   ]
  },
  {
   "cell_type": "code",
   "execution_count": 3,
   "metadata": {},
   "outputs": [],
   "source": [
    "def deviceof(m: nn.Module) -> torch.device:\n",
    "    \"\"\"\n",
    "    Get the device of the given module\n",
    "    \"\"\"\n",
    "    return next(m.parameters()).device\n"
   ]
  },
  {
   "attachments": {},
   "cell_type": "markdown",
   "metadata": {},
   "source": [
    "Now, we create the network that outputs a multivariate Gaussian distribution. This is a Pytorch object which we can sample from to get an action, and which we can call to get the log probability of an action."
   ]
  },
  {
   "cell_type": "code",
   "execution_count": 4,
   "metadata": {},
   "outputs": [],
   "source": [
    "class Policy(nn.Module):\n",
    "    \"\"\"\n",
    "    A simple policy network\n",
    "    \"\"\"\n",
    "    def __init__(self):\n",
    "        super().__init__()\n",
    "        self.fc1 = nn.Linear(259, 256)\n",
    "        self.fc2 = nn.Linear(256, 256)\n",
    "        self.mu = nn.Linear(256, 2)\n",
    "        \n",
    "    \n",
    "    def forward(self, x: torch.Tensor) -> torch.distributions.MultivariateNormal:\n",
    "        \"\"\"\n",
    "        Forward pass of the policy network, returns a multivariate normal distribution\n",
    "        parameterized by a diagonal covariance matrix\n",
    "        \"\"\"\n",
    "        x = F.relu(self.fc1(x))\n",
    "        x = F.relu(self.fc2(x))\n",
    "        mu = F.tanh(self.mu(x))\n",
    "        # sigma is fixed at 0.1\n",
    "        sigma = 0.1*torch.ones_like(mu)\n",
    "        return torch.distributions.MultivariateNormal(mu, torch.diag_embed(sigma))"
   ]
  },
  {
   "cell_type": "code",
   "execution_count": 5,
   "metadata": {},
   "outputs": [],
   "source": [
    "def nn_policy(net:Policy, obs:npt.NDArray) -> tuple[float, float]:\n",
    "    \"\"\"\n",
    "    A neural network policy that returns an action based on the given observation\n",
    "    \"\"\"\n",
    "    # convert observation to a tensor\n",
    "    obs_tensor = torch.from_numpy(obs).float().to(deviceof(net))\n",
    "    # add batch dimension\n",
    "    obs_tensor = obs_tensor.unsqueeze(0)\n",
    "    # sample from the policy network\n",
    "    throttle, steer = net(obs_tensor).sample().squeeze(0)\n",
    "    return throttle.item(), steer.item()"
   ]
  },
  {
   "cell_type": "code",
   "execution_count": 6,
   "metadata": {},
   "outputs": [],
   "source": [
    "@dataclass\n",
    "class TrainParameters:\n",
    "    entropy_bonus: float\n",
    "\n",
    "def compute_policy_gradient_loss(\n",
    "    # Current policy network's distribution of actions given a state\n",
    "    # inner shape = (Batch, 2)\n",
    "    pi_theta_given_st: torch.distributions.MultivariateNormal,\n",
    "    # The action chosen by the policy network\n",
    "    # in (Batch, 2)\n",
    "    a_t: torch.Tensor,\n",
    "    # Rewards To Go for the chosen action\n",
    "    # in (Batch,)\n",
    "    R_t: torch.Tensor,\n",
    ") -> torch.Tensor:\n",
    "    r\"\"\"\n",
    "    Computes the policy gradient loss for a vector of examples, and reduces with mean.\n",
    "\n",
    "    The standard policy gradient is given by the expected value over trajectories of:\n",
    "\n",
    "    :math:`\\sum_{t=0}^{T} \\nabla_{\\theta} (\\log \\pi_{\\theta}(a_t|s_t))R_t`\n",
    "    \n",
    "    where:\n",
    "    * :math:`\\pi_{\\theta}(a_t|s_t)` is the current policy's probability to perform action :math:`a_t` given :math:`s_t`\n",
    "    * :math:`R_t` is the rewards-to-go from the state at time t to the end of the episode from which it came.\n",
    "    \"\"\"\n",
    "\n",
    "    # Note: this loss has doesn't actually represent whether the action was good or bad\n",
    "    # it is a dummy loss, that is only used to compute the gradient\n",
    "\n",
    "    # Recall that the policy gradient for a single transition (state-action pair) is given by:\n",
    "    # $\\nabla_{\\theta} \\log \\pi_{\\theta}(a_t|s_t)R_t$\n",
    "    # However, it's easier to work with losses, rather than raw gradients.\n",
    "    # Therefore we construct a loss, that when differentiated, gives us the policy gradient.\n",
    "    # this loss is given by:\n",
    "    # $-\\log \\pi_{\\theta}(a_t|s_t)R_t$\n",
    "\n",
    "    # in (Batch,)\n",
    "    loss_per_example = -pi_theta_given_st.log_prob(a_t) * R_t\n",
    "\n",
    "    # we take the average loss over all examples\n",
    "    return loss_per_example.mean()\n",
    "\n",
    "\n",
    "def train_policygradient(\n",
    "    policy: Policy,\n",
    "    policy_optimizer: torch.optim.Optimizer,\n",
    "    observation_batch: list[npt.NDArray],\n",
    "    action_batch: list[tuple[float, float]],\n",
    "    rtg_batch: list[float],\n",
    ") -> float:\n",
    "    # assert that the batch_lengths are the same\n",
    "    assert len(observation_batch) == len(action_batch)\n",
    "    assert len(observation_batch) == len(rtg_batch)\n",
    "\n",
    "    # get device\n",
    "    device = deviceof(policy)\n",
    "\n",
    "    # convert data to tensors on correct device\n",
    "\n",
    "    # in (Batch, Width)\n",
    "    observation_batch_tensor = torch.from_numpy(np.stack(observation_batch)).to(device)\n",
    "\n",
    "    # in (Batch,)\n",
    "    rtg_batch_tensor = torch.tensor(\n",
    "        rtg_batch, dtype=torch.float32, device=device\n",
    "    )\n",
    "\n",
    "    # in (Batch, 2)\n",
    "    chosen_action_tensor = torch.tensor(action_batch, device=device)\n",
    "\n",
    "    # train policy\n",
    "    policy_optimizer.zero_grad()\n",
    "    action_probs = policy.forward(observation_batch_tensor)\n",
    "    policy_loss = compute_policy_gradient_loss(\n",
    "        action_probs, chosen_action_tensor, rtg_batch_tensor\n",
    "    )\n",
    "    policy_loss.backward()\n",
    "    policy_optimizer.step()\n",
    "\n",
    "    # return the respective losses\n",
    "    return policy_loss.item()\n"
   ]
  },
  {
   "attachments": {},
   "cell_type": "markdown",
   "metadata": {},
   "source": [
    "With that, we're done. Let's train!"
   ]
  },
  {
   "cell_type": "code",
   "execution_count": 7,
   "metadata": {},
   "outputs": [],
   "source": [
    "# disable logging from metadrive\n",
    "import logging\n",
    "import inspect\n",
    "logging.getLogger(inspect.getfile(metadrive.envs.base_env)).setLevel(logging.WARNING)"
   ]
  },
  {
   "cell_type": "code",
   "execution_count": 8,
   "metadata": {},
   "outputs": [],
   "source": [
    "device = torch.device(\"cuda\" if torch.cuda.is_available() else \"cpu\")\n",
    "\n",
    "policy = Policy().to(device)\n",
    "policy_optimizer = torch.optim.Adam(policy.parameters(), lr=1e-4)\n",
    "policy_scheduler = torch.optim.lr_scheduler.StepLR(policy_optimizer, step_size=1, gamma=0.97)\n",
    "\n",
    "step = 0\n",
    "max_return = -float(\"inf\")\n",
    "return_mean = []\n",
    "return_variance = []\n",
    "losses = []"
   ]
  },
  {
   "cell_type": "code",
   "execution_count": 9,
   "metadata": {},
   "outputs": [],
   "source": [
    "env = gym.make(\"MetaDrive-validation-v0\", config={\"use_render\": False, \"horizon\": 500})"
   ]
  },
  {
   "attachments": {},
   "cell_type": "markdown",
   "metadata": {},
   "source": [
    "This code takes a long time to run, but the low learning rate and high batch sizes are a necessity for training REINFORCE. You should leave this code running for about an hour. "
   ]
  },
  {
   "cell_type": "code",
   "execution_count": 10,
   "metadata": {},
   "outputs": [
    {
     "name": "stderr",
     "output_type": "stream",
     "text": [
      "/home/fidgetsinner/venvs/metadrive/lib/python3.11/site-packages/gymnasium/utils/passive_env_checker.py:210: DeprecationWarning: WARN: Current gymnasium version requires that `Env.reset` can be passed `options` to allow the environment initialisation to be passed additional information.\n",
      "  logger.deprecation(\n",
      ":device(warning): /dev/input/event5 is not readable, some features will be unavailable.\n",
      ":device(warning): /dev/input/event6 is not readable, some features will be unavailable.\n",
      ":device(warning): /dev/input/event7 is not readable, some features will be unavailable.\n"
     ]
    },
    {
     "name": "stdout",
     "output_type": "stream",
     "text": [
      "Step 0, Policy Loss: 0.042, Avg. Returns: 3.847\n",
      "Step 1, Policy Loss: 0.070, Avg. Returns: 6.352\n",
      "Step 2, Policy Loss: 0.081, Avg. Returns: 6.205\n",
      "Step 3, Policy Loss: 0.144, Avg. Returns: 7.712\n",
      "Step 4, Policy Loss: 0.313, Avg. Returns: 17.514\n"
     ]
    }
   ],
   "source": [
    "TRAIN_EPOCHS = 500\n",
    "EPISODES_PER_BATCH = 32\n",
    "GAMMA = 0.90\n",
    "\n",
    "# Train\n",
    "while step < TRAIN_EPOCHS:\n",
    "    obs_batch:list[npt.NDArray[np.float32]] = []\n",
    "    act_batch:list[int] = []\n",
    "    rtg_batch:list[float] = []\n",
    "    \n",
    "    trajectory_returns = []\n",
    "\n",
    "    for _ in range(EPISODES_PER_BATCH):\n",
    "        # Collect trajectory\n",
    "        obs_traj, act_traj, rew_traj = collect_trajectory(env, lambda obs: nn_policy(policy, obs))\n",
    "        rtg_traj = rewards_to_go(rew_traj, GAMMA)\n",
    "\n",
    "        # Update batch\n",
    "        obs_batch.extend(obs_traj)\n",
    "        act_batch.extend(act_traj)\n",
    "        rtg_batch.extend(rtg_traj)\n",
    "\n",
    "        # Update trajectory returns\n",
    "        trajectory_returns.append(sum(rew_traj))\n",
    "\n",
    "    policy_loss = train_policygradient(\n",
    "        policy,\n",
    "        policy_optimizer,\n",
    "        obs_batch,\n",
    "        act_batch,\n",
    "        rtg_batch,\n",
    "    )\n",
    "    policy_scheduler.step()\n",
    "    \n",
    "\n",
    "    print(f\"Step {step}, Policy Loss: {policy_loss:.3f}, Avg. Returns: {np.mean(trajectory_returns):.3f}\")\n",
    "    return_mean.append(np.mean(trajectory_returns))\n",
    "    return_variance.append(np.var(trajectory_returns))\n",
    "    losses.append(policy_loss)\n",
    "    step += 1\n",
    "    if return_mean[-1] > max_return:\n",
    "        max_return = return_mean[-1]"
   ]
  },
  {
   "cell_type": "code",
   "execution_count": null,
   "metadata": {},
   "outputs": [],
   "source": [
    "env.close()"
   ]
  },
  {
   "cell_type": "code",
   "execution_count": null,
   "metadata": {},
   "outputs": [
    {
     "name": "stderr",
     "output_type": "stream",
     "text": [
      "Known pipe types:\n",
      "  glxGraphicsPipe\n",
      "(1 aux display modules not yet loaded.)\n",
      ":task(warning): Creating implicit AsyncTaskChain default for AsyncTaskManager TaskManager\n"
     ]
    },
    {
     "ename": "",
     "evalue": "",
     "output_type": "error",
     "traceback": [
      "\u001b[1;31mCannot execute code, session has been disposed. Please try restarting the Kernel."
     ]
    },
    {
     "ename": "",
     "evalue": "",
     "output_type": "error",
     "traceback": [
      "\u001b[1;31mThe Kernel crashed while executing code in the the current cell or a previous cell. Please review the code in the cell(s) to identify a possible cause of the failure. Click <a href='https://aka.ms/vscodeJupyterKernelCrash'>here</a> for more info. View Jupyter <a href='command:jupyter.viewOutput'>log</a> for further details."
     ]
    }
   ],
   "source": [
    "env = gym.make(\"MetaDrive-validation-v0\", config={\"use_render\": True, \"horizon\": 500})\n",
    "obs, act, rew = collect_trajectory(env, lambda obs: nn_policy(policy, obs))\n",
    "env.close()\n",
    "\n",
    "print(\"Reward:\", sum(rew))"
   ]
  },
  {
   "cell_type": "code",
   "execution_count": null,
   "metadata": {},
   "outputs": [
    {
     "data": {
      "text/plain": [
       "[<matplotlib.lines.Line2D at 0x7f881bd4a050>]"
      ]
     },
     "execution_count": 26,
     "metadata": {},
     "output_type": "execute_result"
    },
    {
     "data": {
      "image/png": "[encoded data removed]",
      "text/plain": [
       "<Figure size 640x480 with 1 Axes>"
      ]
     },
     "metadata": {},
     "output_type": "display_data"
    }
   ],
   "source": [
    "# plot losses\n",
    "import matplotlib.pyplot as plt\n",
    "plt.plot(losses, label=\"Policy Loss\")\n",
    "plt.plot(return_mean, label=\"Avg. Returns\")\n",
    "plt.plot(return_variance, label=\"Return Variance\")"
   ]
  }
 ],
 "metadata": {
  "kernelspec": {
   "display_name": "metadrive",
   "language": "python",
   "name": "python3"
  },
  "language_info": {
   "codemirror_mode": {
    "name": "ipython",
    "version": 3
   },
   "file_extension": ".py",
   "mimetype": "text/x-python",
   "name": "python",
   "nbconvert_exporter": "python",
   "pygments_lexer": "ipython3",
   "version": "3.11.3"
  },
  "orig_nbformat": 4
 },
 "nbformat": 4,
 "nbformat_minor": 2
}

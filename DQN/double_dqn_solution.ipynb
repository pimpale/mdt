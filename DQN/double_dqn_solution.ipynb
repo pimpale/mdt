{
 "cells": [
  {
   "attachments": {},
   "cell_type": "markdown",
   "metadata": {},
   "source": [
    "## DDQN Implementation Exercise\n",
    "Before beginning this exercise, we highly recommend you read through the [Double DQN Derivation](double_dqn.ipynb) tutorial to get a better grasp of the math behind Double DQN (DDQN).\n"
   ]
  },
  {
   "attachments": {},
   "cell_type": "markdown",
   "metadata": {},
   "source": [
    "Since we've already covered most of this in the DQN exercise, we'll copy all the unchanged code over without explanation. You're encouraged to read through the code again to refresh your memory."
   ]
  },
  {
   "cell_type": "code",
   "execution_count": 1,
   "metadata": {},
   "outputs": [
    {
     "name": "stdout",
     "output_type": "stream",
     "text": [
      "Successfully registered the following environments: ['MetaDrive-validation-v0', 'MetaDrive-10env-v0', 'MetaDrive-100envs-v0', 'MetaDrive-1000envs-v0', 'SafeMetaDrive-validation-v0', 'SafeMetaDrive-10env-v0', 'SafeMetaDrive-100envs-v0', 'SafeMetaDrive-1000envs-v0', 'MARLTollgate-v0', 'MARLBottleneck-v0', 'MARLRoundabout-v0', 'MARLIntersection-v0', 'MARLParkingLot-v0', 'MARLMetaDrive-v0'].\n"
     ]
    }
   ],
   "source": [
    "import metadrive  # Import this package to register the environment!\n",
    "import gymnasium as gym\n",
    "from metadrive.envs.top_down_env import TopDownMetaDrive\n",
    "gym.register(id=\"MetaDrive-topdown\", entry_point=TopDownMetaDrive, kwargs=dict(config={}))"
   ]
  },
  {
   "cell_type": "code",
   "execution_count": 2,
   "metadata": {},
   "outputs": [],
   "source": [
    "import numpy as np\n",
    "import numpy.typing as npt\n",
    "\n",
    "NUM_ACTIONS = 5\n",
    "\n",
    "def discrete2continuous(action:int) -> npt.NDArray[np.float32]:\n",
    "    \"\"\"\n",
    "    Convert discrete action to continuous action\n",
    "    \"\"\"\n",
    "    assert 0 <= action < NUM_ACTIONS\n",
    "    throttle_magnitude = 1.0\n",
    "    brake_magnitude = 1.0\n",
    "    steering_magnitude = 1.0\n",
    "    match action:\n",
    "        case 0:\n",
    "            return np.array([steering_magnitude, 0.0])\n",
    "        case 1:\n",
    "            return np.array([0.0, throttle_magnitude])\n",
    "        case 2:\n",
    "            return np.array([0.0, -brake_magnitude])\n",
    "        case 3:\n",
    "            return np.array([-steering_magnitude, 0.0])\n",
    "        case 4:\n",
    "            return np.array([0.0, 0.0])\n"
   ]
  },
  {
   "cell_type": "code",
   "execution_count": 3,
   "metadata": {},
   "outputs": [],
   "source": [
    "import torch\n",
    "import torch.nn as nn\n",
    "import torch.nn.functional as F\n",
    "\n",
    "# Q network\n",
    "class QNetwork(nn.Module):\n",
    "    def __init__(self):\n",
    "        super().__init__()\n",
    "        # input is size 84x84x5\n",
    "        # output is size NUM_ACTIONS\n",
    "        self.conv1 = nn.Conv2d(5, 16, kernel_size=8, stride=4) # 84x84x5 -> 20x20x16\n",
    "        self.conv2 = nn.Conv2d(16, 32, kernel_size=4, stride=2) # 20x20x16 -> 9x9x32\n",
    "        self.fc1 = nn.Linear(9*9*32, 256) # 9x9x32 -> 256\n",
    "        self.fc2 = nn.Linear(256, NUM_ACTIONS) # 256 -> NUM_ACTIONS\n",
    "\n",
    "    def forward(self, x: torch.Tensor) -> torch.Tensor:\n",
    "        x = F.relu(self.conv1(x)) # Bx84x84x5 -> Bx20x20x16\n",
    "        x = F.relu(self.conv2(x)) # Bx20x20x16 -> Bx9x9x32\n",
    "        x = torch.flatten(x, start_dim=1) # Bx9x9x32 -> Bx9*9*32\n",
    "        x = F.relu(self.fc1(x)) # Bx9*9*32 -> Bx256\n",
    "        x = self.fc2(x) # Bx256 -> BxNUM_ACTIONS\n",
    "        return x"
   ]
  },
  {
   "cell_type": "code",
   "execution_count": 4,
   "metadata": {},
   "outputs": [],
   "source": [
    "def obs_batch_to_tensor(obs: list[npt.NDArray[np.float32]], device: torch.device) -> torch.Tensor:\n",
    "    \"\"\"\n",
    "    Reshape the image observation from (B, H, W, C) to (B, C, H, W) and convert it to a tensor\n",
    "    \"\"\"\n",
    "    return torch.tensor(np.stack(obs), dtype=torch.float32, device=device).permute(0, 3, 1, 2)"
   ]
  },
  {
   "cell_type": "code",
   "execution_count": 5,
   "metadata": {},
   "outputs": [],
   "source": [
    "def deviceof(m: nn.Module) -> torch.device:\n",
    "    \"\"\"\n",
    "    Get the device of the given module\n",
    "    \"\"\"\n",
    "    return next(m.parameters()).device\n",
    "\n",
    "class QPolicy:\n",
    "    def __init__(self, net:QNetwork, epsilon: float = 0.0):\n",
    "        self.net = net\n",
    "        self.epsilon = epsilon\n",
    "    \n",
    "    def __call__(self, obs: npt.NDArray[np.float32]) -> int:\n",
    "        \"\"\"\n",
    "        Return action given observation\n",
    "        \"\"\"\n",
    "        if np.random.rand() < self.epsilon:\n",
    "            return np.random.randint(NUM_ACTIONS)\n",
    "        else:\n",
    "            device = deviceof(self.net)\n",
    "            obs_batch = obs_batch_to_tensor([obs], device)\n",
    "            with torch.no_grad():\n",
    "                q_values = self.net(obs_batch)[0]\n",
    "                return torch.argmax(q_values).item()"
   ]
  },
  {
   "cell_type": "code",
   "execution_count": 6,
   "metadata": {},
   "outputs": [],
   "source": [
    "import typing\n",
    "\n",
    "class Transition(typing.NamedTuple):\n",
    "    obs: npt.NDArray[np.float32]\n",
    "    action: int\n",
    "    reward: float\n",
    "    next_obs: npt.NDArray[np.float32]\n",
    "    terminated: bool\n",
    "\n",
    "\n",
    "def collect_trajectory(env:gym.Env, policy:typing.Callable[[npt.NDArray], int]) -> list[Transition]:\n",
    "    \"\"\"\n",
    "    Collect a trajectory from the environment using the given policy\n",
    "    \"\"\"\n",
    "    trajectory = []\n",
    "\n",
    "    obs, info = env.reset()\n",
    "\n",
    "    while True:\n",
    "        action = policy(obs)\n",
    "        next_obs, reward, terminated, truncated, info = env.step(discrete2continuous(action))\n",
    "        trajectory.append(Transition(obs, action, reward, next_obs, terminated))\n",
    "        if terminated or truncated:\n",
    "            break\n",
    "        else:\n",
    "            obs = next_obs\n",
    "\n",
    "    return trajectory"
   ]
  },
  {
   "cell_type": "code",
   "execution_count": 7,
   "metadata": {},
   "outputs": [],
   "source": [
    "import random\n",
    "class ReplayBuffer():\n",
    "    def __init__(self, capacity:int = 10000):\n",
    "        self.capacity = capacity\n",
    "        self.buffer: list[Transition] = []\n",
    "        self.position = 0\n",
    "\n",
    "    def push(self, transition: Transition):\n",
    "        if len(self.buffer) < self.capacity:\n",
    "            self.buffer.append(transition)\n",
    "        else:\n",
    "            self.buffer[self.position] = transition\n",
    "        # Overwrite the earliest stuff if the buffer is full.\n",
    "        self.position = (self.position + 1) % self.capacity\n",
    "\n",
    "    def sample(self, batch_size:int) -> list[Transition]:\n",
    "        return random.sample(self.buffer, batch_size)\n",
    "\n",
    "    def __len__(self) -> int:\n",
    "        return len(self.buffer)"
   ]
  },
  {
   "attachments": {},
   "cell_type": "markdown",
   "metadata": {},
   "source": [
    "## Double DQN\n",
    "\n",
    "*Note: We implement the version of DDQN as described by [Hasselt et al. (2015)](https://arxiv.org/abs/1509.06461).*\n",
    "\n",
    "The key issue with DQNs (as we saw in the previous exercise) is that the max operation in the target Q value calculation is susceptible to overestimation. To address this issue, DDQN proposes to introduce two separate networks: a **primary network** (denoted by $Q_{\\phi}$) and a **target network** (denoted by $Q_{\\phi_{\\text{target}}}$). The primary network is used for action selection, and the target network is used for action evaluation. The target network is updated less frequently than the action network.\n",
    "\n",
    "The idea is that the primary network will learn to predict the Q-Values for the policy defined by the target network. This also helps eliminate the moving target problem, since the target network is only updated periodically.\n",
    "\n",
    "#### DDQN Network Update Rule\n",
    "\n",
    "For:\n",
    "* Terminal pairs: $Q_{\\text{target}}(s, a) = r$\n",
    "* Non-terminal pairs: $Q_{\\text{target}}(s, a) = r + \\gamma Q_{\\phi_{\\text{target}}}(s', \\underset{a' \\in A}{\\operatorname{argmax}} \\, Q_{\\phi}(s', a'))$\n",
    "\n",
    "We train the primary network to more closely match the target q-values by minimizing the following loss function:\n",
    "$$\n",
    "\\mathcal{L}(\\phi) = \\mathbb{E}_{s, a, r, s'} \\left[ \\left( Q_{\\phi}(s, a) - Q_{\\text{target}}(s, a) \\right)^2 \\right]\n",
    "$$"
   ]
  },
  {
   "cell_type": "code",
   "execution_count": 8,
   "metadata": {},
   "outputs": [],
   "source": [
    "def compute_target_q_values(\n",
    "        primary_q_network: QNetwork,\n",
    "        target_q_network: QNetwork,\n",
    "        rewards: list[float],\n",
    "        next_observations: list[npt.NDArray[np.float32]],\n",
    "        terminateds: list[bool],\n",
    "        gamma: float\n",
    ") -> list[float]:\n",
    "    \"\"\"\n",
    "    Compute the target Q values for the transitions\n",
    "    \"\"\"\n",
    "    # assert that the lengths of the lists are the same\n",
    "    n_transitions = len(rewards)\n",
    "    assert len(next_observations) == n_transitions\n",
    "    assert len(terminateds) == n_transitions\n",
    "\n",
    "    # assert that primary and target networks are on the same device\n",
    "    device = deviceof(primary_q_network)\n",
    "    assert deviceof(target_q_network) == device\n",
    "\n",
    "    # compute the Q_target(s', a') values\n",
    "    next_obs_batch = obs_batch_to_tensor(next_observations, device)\n",
    "    with torch.no_grad():\n",
    "        primary_next_q_values = primary_q_network(next_obs_batch)\n",
    "        target_next_q_values = target_q_network(next_obs_batch)\n",
    "\n",
    "    # compute argmax_a' Q_phi(s', a') for each transition\n",
    "    argmax_next_q_values = torch.max(primary_next_q_values, dim=1).indices\n",
    "\n",
    "    # compute the Q_phi_target(s', argmax_a' Q_phi(s', a')) values\n",
    "    max_next_q_values = target_next_q_values[range(n_transitions), argmax_next_q_values]\n",
    "    \n",
    "    # compute the target Q values\n",
    "    target_q_values = []\n",
    "    for reward, terminated, max_next_q_value in zip(rewards, terminateds, max_next_q_values):\n",
    "        if terminated:\n",
    "            target_q_values.append(reward)\n",
    "        else:\n",
    "            target_q_values.append(reward + gamma * float(max_next_q_value))\n",
    "\n",
    "    return target_q_values"
   ]
  },
  {
   "attachments": {},
   "cell_type": "markdown",
   "metadata": {},
   "source": [
    "We train the Q-Network to try to predict these target Q values. We use MSE loss to train the network, but another popular choice is Huber loss."
   ]
  },
  {
   "cell_type": "code",
   "execution_count": 9,
   "metadata": {},
   "outputs": [],
   "source": [
    "def train_primary_q_network(\n",
    "        primary_q_network: QNetwork,\n",
    "        target_q_network: QNetwork,\n",
    "        optimizer: torch.optim.Optimizer,\n",
    "        transitions: list[Transition],\n",
    "        gamma: float\n",
    ") -> float:\n",
    "    \"\"\"\n",
    "    Train the Q network using the given transitions\n",
    "    \"\"\"\n",
    "    # unpack the transitions\n",
    "    obs_batch, action_batch, reward_batch, next_obs_batch, terminated_batch = zip(*transitions)\n",
    "    \n",
    "    device = deviceof(primary_q_network)\n",
    "\n",
    "    # compute the target Q values\n",
    "    target_q_values = compute_target_q_values(primary_q_network, target_q_network, reward_batch, next_obs_batch, terminated_batch, gamma)\n",
    "    target_q_values_tensor = torch.tensor(target_q_values, dtype=torch.float32, device=device)\n",
    "\n",
    "    # compute the Q values for the picked actions\n",
    "    obs_batch = obs_batch_to_tensor(obs_batch, device)\n",
    "    all_q_values = primary_q_network(obs_batch)\n",
    "    q_values = all_q_values[range(len(action_batch)), action_batch]\n",
    "\n",
    "    # compute the loss\n",
    "    loss = F.mse_loss(q_values, target_q_values_tensor)\n",
    "\n",
    "    # perform gradient descent\n",
    "    optimizer.zero_grad()\n",
    "    loss.backward()\n",
    "    optimizer.step()\n",
    "\n",
    "    return float(loss)\n",
    "\n",
    "def soft_update_target_q_network(primary_q_network: QNetwork, target_q_network: QNetwork, tau: float):\n",
    "    \"\"\"\n",
    "    Soft update the target Q network\n",
    "    \"\"\"\n",
    "    # assert that primary and target networks are on the same device\n",
    "    device = deviceof(primary_q_network)\n",
    "    assert deviceof(target_q_network) == device\n",
    "\n",
    "    # update the target network parameters\n",
    "    for primary_param, target_param in zip(primary_q_network.parameters(), target_q_network.parameters()):\n",
    "        target_param.data.copy_(tau * primary_param.data + (1 - tau) * target_param.data)"
   ]
  },
  {
   "attachments": {},
   "cell_type": "markdown",
   "metadata": {},
   "source": [
    "### Training Loop"
   ]
  },
  {
   "attachments": {},
   "cell_type": "markdown",
   "metadata": {},
   "source": [
    "Now, we can finally begin training the network."
   ]
  },
  {
   "cell_type": "code",
   "execution_count": 10,
   "metadata": {},
   "outputs": [],
   "source": [
    "# disable logging from metadrive\n",
    "import logging\n",
    "import inspect\n",
    "import metadrive.envs.top_down_env\n",
    "logging.getLogger(inspect.getfile(metadrive.envs.base_env)).setLevel(logging.WARNING)"
   ]
  },
  {
   "cell_type": "code",
   "execution_count": 11,
   "metadata": {},
   "outputs": [],
   "source": [
    "def set_lr(optimizer: torch.optim.Optimizer, lr: float) -> None:\n",
    "    for param_group in optimizer.param_groups:\n",
    "        param_group['lr'] = lr\n",
    "\n",
    "device = torch.device(\"cuda\" if torch.cuda.is_available() else \"cpu\")\n",
    "\n",
    "primary_q_network = QNetwork().to(device)\n",
    "target_q_network = QNetwork().to(device)\n",
    "\n",
    "q_optimizer = torch.optim.Adam(primary_q_network.parameters())\n",
    "\n",
    "policy = QPolicy(primary_q_network, epsilon=0.3)\n",
    "\n",
    "replay_buffer = ReplayBuffer()\n",
    "\n",
    "step = 0\n",
    "returns = []\n",
    "losses = []"
   ]
  },
  {
   "cell_type": "code",
   "execution_count": 12,
   "metadata": {},
   "outputs": [
    {
     "name": "stderr",
     "output_type": "stream",
     "text": [
      "/home/fidgetsinner/venvs/metadrive/lib/python3.11/site-packages/gymnasium/utils/passive_env_checker.py:29: UserWarning: WARN: It seems a Box observation space is an image but the `dtype` is not `np.uint8`, actual type: float32. If the Box observation space is not an image, we recommend flattening the observation to have only a 1D vector.\n",
      "  logger.warn(\n",
      "/home/fidgetsinner/venvs/metadrive/lib/python3.11/site-packages/gymnasium/utils/passive_env_checker.py:34: UserWarning: WARN: It seems a Box observation space is an image but the lower and upper bounds are not [0, 255]. Actual lower bound: -0.0, upper bound: 1.0. Generally, CNN policies assume observations are within that range, so you may encounter an issue if the observation values are not.\n",
      "  logger.warn(\n"
     ]
    }
   ],
   "source": [
    "env = gym.make(\"MetaDrive-topdown\", config={\"use_render\": False, \"horizon\": 300, \"num_scenarios\": 100})"
   ]
  },
  {
   "cell_type": "code",
   "execution_count": 13,
   "metadata": {},
   "outputs": [
    {
     "name": "stderr",
     "output_type": "stream",
     "text": [
      "/home/fidgetsinner/venvs/metadrive/lib/python3.11/site-packages/gymnasium/utils/passive_env_checker.py:210: DeprecationWarning: WARN: Current gymnasium version requires that `Env.reset` can be passed `options` to allow the environment initialisation to be passed additional information.\n",
      "  logger.deprecation(\n",
      ":device(warning): /dev/input/event4 is not readable, some features will be unavailable.\n",
      ":device(warning): /dev/input/event5 is not readable, some features will be unavailable.\n",
      ":device(warning): /dev/input/event6 is not readable, some features will be unavailable.\n"
     ]
    },
    {
     "name": "stdout",
     "output_type": "stream",
     "text": [
      "Step 0, Avg. Returns: 0.541 +/- 0.154, Median: 0.510, Q-Network Loss: 0.005\n",
      "Step 1, Avg. Returns: 0.530 +/- 0.169, Median: 0.513, Q-Network Loss: 0.002\n",
      "Step 2, Avg. Returns: 0.523 +/- 0.197, Median: 0.516, Q-Network Loss: 0.001\n",
      "Step 3, Avg. Returns: 0.523 +/- 0.184, Median: 0.547, Q-Network Loss: 0.000\n",
      "Step 4, Avg. Returns: 0.375 +/- 0.619, Median: 0.480, Q-Network Loss: 0.000\n",
      "Step 5, Avg. Returns: 10.000 +/- 3.023, Median: 9.360, Q-Network Loss: 0.003\n",
      "Step 6, Avg. Returns: 10.465 +/- 4.037, Median: 10.359, Q-Network Loss: 0.003\n",
      "Step 7, Avg. Returns: 11.001 +/- 3.789, Median: 10.192, Q-Network Loss: 0.001\n",
      "Step 8, Avg. Returns: 10.444 +/- 4.408, Median: 9.657, Q-Network Loss: 0.002\n",
      "Step 9, Avg. Returns: 12.004 +/- 8.452, Median: 10.193, Q-Network Loss: 0.003\n",
      "Step 10, Avg. Returns: 12.468 +/- 3.753, Median: 11.798, Q-Network Loss: 0.002\n"
     ]
    },
    {
     "ename": "KeyboardInterrupt",
     "evalue": "",
     "output_type": "error",
     "traceback": [
      "\u001b[0;31m---------------------------------------------------------------------------\u001b[0m",
      "\u001b[0;31mKeyboardInterrupt\u001b[0m                         Traceback (most recent call last)",
      "Cell \u001b[0;32mIn[13], line 13\u001b[0m\n\u001b[1;32m      9\u001b[0m trajectory_returns \u001b[39m=\u001b[39m []\n\u001b[1;32m     11\u001b[0m \u001b[39mfor\u001b[39;00m _ \u001b[39min\u001b[39;00m \u001b[39mrange\u001b[39m(EPISODES_PER_BATCH):\n\u001b[1;32m     12\u001b[0m     \u001b[39m# Collect trajectory\u001b[39;00m\n\u001b[0;32m---> 13\u001b[0m     transitions \u001b[39m=\u001b[39m collect_trajectory(env, policy)\n\u001b[1;32m     14\u001b[0m     rew_traj \u001b[39m=\u001b[39m [t\u001b[39m.\u001b[39mreward \u001b[39mfor\u001b[39;00m t \u001b[39min\u001b[39;00m transitions]\n\u001b[1;32m     16\u001b[0m     \u001b[39m# Update replay buffer\u001b[39;00m\n",
      "Cell \u001b[0;32mIn[6], line 21\u001b[0m, in \u001b[0;36mcollect_trajectory\u001b[0;34m(env, policy)\u001b[0m\n\u001b[1;32m     19\u001b[0m \u001b[39mwhile\u001b[39;00m \u001b[39mTrue\u001b[39;00m:\n\u001b[1;32m     20\u001b[0m     action \u001b[39m=\u001b[39m policy(obs)\n\u001b[0;32m---> 21\u001b[0m     next_obs, reward, terminated, truncated, info \u001b[39m=\u001b[39m env\u001b[39m.\u001b[39;49mstep(discrete2continuous(action))\n\u001b[1;32m     22\u001b[0m     trajectory\u001b[39m.\u001b[39mappend(Transition(obs, action, reward, next_obs, terminated))\n\u001b[1;32m     23\u001b[0m     \u001b[39mif\u001b[39;00m terminated \u001b[39mor\u001b[39;00m truncated:\n",
      "File \u001b[0;32m~/venvs/metadrive/lib/python3.11/site-packages/gymnasium/wrappers/order_enforcing.py:56\u001b[0m, in \u001b[0;36mOrderEnforcing.step\u001b[0;34m(self, action)\u001b[0m\n\u001b[1;32m     54\u001b[0m \u001b[39mif\u001b[39;00m \u001b[39mnot\u001b[39;00m \u001b[39mself\u001b[39m\u001b[39m.\u001b[39m_has_reset:\n\u001b[1;32m     55\u001b[0m     \u001b[39mraise\u001b[39;00m ResetNeeded(\u001b[39m\"\u001b[39m\u001b[39mCannot call env.step() before calling env.reset()\u001b[39m\u001b[39m\"\u001b[39m)\n\u001b[0;32m---> 56\u001b[0m \u001b[39mreturn\u001b[39;00m \u001b[39mself\u001b[39;49m\u001b[39m.\u001b[39;49menv\u001b[39m.\u001b[39;49mstep(action)\n",
      "File \u001b[0;32m~/venvs/metadrive/lib/python3.11/site-packages/gymnasium/wrappers/env_checker.py:49\u001b[0m, in \u001b[0;36mPassiveEnvChecker.step\u001b[0;34m(self, action)\u001b[0m\n\u001b[1;32m     47\u001b[0m     \u001b[39mreturn\u001b[39;00m env_step_passive_checker(\u001b[39mself\u001b[39m\u001b[39m.\u001b[39menv, action)\n\u001b[1;32m     48\u001b[0m \u001b[39melse\u001b[39;00m:\n\u001b[0;32m---> 49\u001b[0m     \u001b[39mreturn\u001b[39;00m \u001b[39mself\u001b[39;49m\u001b[39m.\u001b[39;49menv\u001b[39m.\u001b[39;49mstep(action)\n",
      "File \u001b[0;32m~/myworkspace/metadrive/metadrive/envs/metadrive_env.py:312\u001b[0m, in \u001b[0;36mMetaDriveEnv.step\u001b[0;34m(self, *args, **kwargs)\u001b[0m\n\u001b[1;32m    311\u001b[0m \u001b[39mdef\u001b[39;00m \u001b[39mstep\u001b[39m(\u001b[39mself\u001b[39m, \u001b[39m*\u001b[39margs, \u001b[39m*\u001b[39m\u001b[39m*\u001b[39mkwargs):\n\u001b[0;32m--> 312\u001b[0m     ret \u001b[39m=\u001b[39m \u001b[39msuper\u001b[39;49m(MetaDriveEnv, \u001b[39mself\u001b[39;49m)\u001b[39m.\u001b[39;49mstep(\u001b[39m*\u001b[39;49margs, \u001b[39m*\u001b[39;49m\u001b[39m*\u001b[39;49mkwargs)\n\u001b[1;32m    313\u001b[0m     \u001b[39mwhile\u001b[39;00m \u001b[39mself\u001b[39m\u001b[39m.\u001b[39min_stop:\n\u001b[1;32m    314\u001b[0m         \u001b[39mself\u001b[39m\u001b[39m.\u001b[39mengine\u001b[39m.\u001b[39mtaskMgr\u001b[39m.\u001b[39mstep()\n",
      "File \u001b[0;32m~/myworkspace/metadrive/metadrive/envs/base_env.py:297\u001b[0m, in \u001b[0;36mBaseEnv.step\u001b[0;34m(self, actions)\u001b[0m\n\u001b[1;32m    295\u001b[0m \u001b[39mdef\u001b[39;00m \u001b[39mstep\u001b[39m(\u001b[39mself\u001b[39m, actions: Union[np\u001b[39m.\u001b[39mndarray, Dict[AnyStr, np\u001b[39m.\u001b[39mndarray], \u001b[39mint\u001b[39m]):\n\u001b[1;32m    296\u001b[0m     actions \u001b[39m=\u001b[39m \u001b[39mself\u001b[39m\u001b[39m.\u001b[39m_preprocess_actions(actions)\n\u001b[0;32m--> 297\u001b[0m     engine_info \u001b[39m=\u001b[39m \u001b[39mself\u001b[39;49m\u001b[39m.\u001b[39;49m_step_simulator(actions)\n\u001b[1;32m    298\u001b[0m     \u001b[39mreturn\u001b[39;00m \u001b[39mself\u001b[39m\u001b[39m.\u001b[39m_get_step_return(actions, engine_info\u001b[39m=\u001b[39mengine_info)\n",
      "File \u001b[0;32m~/myworkspace/metadrive/metadrive/envs/base_env.py:324\u001b[0m, in \u001b[0;36mBaseEnv._step_simulator\u001b[0;34m(self, actions)\u001b[0m\n\u001b[1;32m    322\u001b[0m scene_manager_before_step_infos \u001b[39m=\u001b[39m \u001b[39mself\u001b[39m\u001b[39m.\u001b[39mengine\u001b[39m.\u001b[39mbefore_step(actions)\n\u001b[1;32m    323\u001b[0m \u001b[39m# step all entities\u001b[39;00m\n\u001b[0;32m--> 324\u001b[0m \u001b[39mself\u001b[39;49m\u001b[39m.\u001b[39;49mengine\u001b[39m.\u001b[39;49mstep(\u001b[39mself\u001b[39;49m\u001b[39m.\u001b[39;49mconfig[\u001b[39m\"\u001b[39;49m\u001b[39mdecision_repeat\u001b[39;49m\u001b[39m\"\u001b[39;49m])\n\u001b[1;32m    325\u001b[0m \u001b[39m# update states, if restore from episode data, position and heading will be force set in update_state() function\u001b[39;00m\n\u001b[1;32m    326\u001b[0m scene_manager_after_step_infos \u001b[39m=\u001b[39m \u001b[39mself\u001b[39m\u001b[39m.\u001b[39mengine\u001b[39m.\u001b[39mafter_step()\n",
      "File \u001b[0;32m~/myworkspace/metadrive/metadrive/engine/base_engine.py:358\u001b[0m, in \u001b[0;36mBaseEngine.step\u001b[0;34m(self, step_num)\u001b[0m\n\u001b[1;32m    356\u001b[0m     \u001b[39mif\u001b[39;00m name \u001b[39m!=\u001b[39m \u001b[39m\"\u001b[39m\u001b[39mrecord_manager\u001b[39m\u001b[39m\"\u001b[39m:\n\u001b[1;32m    357\u001b[0m         manager\u001b[39m.\u001b[39mstep()\n\u001b[0;32m--> 358\u001b[0m \u001b[39mself\u001b[39;49m\u001b[39m.\u001b[39;49mstep_physics_world()\n\u001b[1;32m    359\u001b[0m \u001b[39m# the recording should happen after step physics world\u001b[39;00m\n\u001b[1;32m    360\u001b[0m \u001b[39mif\u001b[39;00m \u001b[39m\"\u001b[39m\u001b[39mrecord_manager\u001b[39m\u001b[39m\"\u001b[39m \u001b[39min\u001b[39;00m \u001b[39mself\u001b[39m\u001b[39m.\u001b[39mmanagers \u001b[39mand\u001b[39;00m i \u001b[39m<\u001b[39m step_num \u001b[39m-\u001b[39m \u001b[39m1\u001b[39m:\n\u001b[1;32m    361\u001b[0m     \u001b[39m# last recording should be finished in after_step(), as some objects may be created in after_step.\u001b[39;00m\n\u001b[1;32m    362\u001b[0m     \u001b[39m# We repeat run simulator ```step_num``` frames, and record after each frame.\u001b[39;00m\n\u001b[0;32m   (...)\u001b[0m\n\u001b[1;32m    367\u001b[0m     \u001b[39m# These new cars' states can be recorded only if we run ```record_managers.step()```\u001b[39;00m\n\u001b[1;32m    368\u001b[0m     \u001b[39m# after the creation of new cars and then can be recorded in ```record_managers.after_step()```\u001b[39;00m\n",
      "File \u001b[0;32m~/myworkspace/metadrive/metadrive/engine/core/engine_core.py:338\u001b[0m, in \u001b[0;36mEngineCore.step_physics_world\u001b[0;34m(self)\u001b[0m\n\u001b[1;32m    336\u001b[0m \u001b[39mdef\u001b[39;00m \u001b[39mstep_physics_world\u001b[39m(\u001b[39mself\u001b[39m):\n\u001b[1;32m    337\u001b[0m     dt \u001b[39m=\u001b[39m \u001b[39mself\u001b[39m\u001b[39m.\u001b[39mglobal_config[\u001b[39m\"\u001b[39m\u001b[39mphysics_world_step_size\u001b[39m\u001b[39m\"\u001b[39m]\n\u001b[0;32m--> 338\u001b[0m     \u001b[39mself\u001b[39;49m\u001b[39m.\u001b[39;49mphysics_world\u001b[39m.\u001b[39;49mdynamic_world\u001b[39m.\u001b[39;49mdoPhysics(dt, \u001b[39m1\u001b[39;49m, dt)\n",
      "\u001b[0;31mKeyboardInterrupt\u001b[0m: "
     ]
    }
   ],
   "source": [
    "TRAIN_EPOCHS = 100\n",
    "EPISODES_PER_BATCH = 32\n",
    "GAMMA = 0.80\n",
    "TAU = 1e-3\n",
    "set_lr(q_optimizer, 1e-4)\n",
    "\n",
    "# Train\n",
    "while step < TRAIN_EPOCHS:\n",
    "    trajectory_returns = []\n",
    "\n",
    "    for _ in range(EPISODES_PER_BATCH):\n",
    "        # Collect trajectory\n",
    "        transitions = collect_trajectory(env, policy)\n",
    "        rew_traj = [t.reward for t in transitions]\n",
    "\n",
    "        # Update replay buffer\n",
    "        for t in transitions:\n",
    "            replay_buffer.push(t)\n",
    "\n",
    "        # Update trajectory returns\n",
    "        trajectory_returns.append(sum(rew_traj))\n",
    "\n",
    "    loss = train_primary_q_network(\n",
    "        primary_q_network,\n",
    "        target_q_network,\n",
    "        q_optimizer,\n",
    "        replay_buffer.sample(EPISODES_PER_BATCH),\n",
    "        GAMMA\n",
    "    )\n",
    "    soft_update_target_q_network(primary_q_network, target_q_network, TAU)\n",
    "\n",
    "    # slowly decay the epsilon\n",
    "    policy.epsilon = policy.epsilon * 0.97\n",
    "\n",
    "    # collect statistics\n",
    "    returns.append(trajectory_returns)\n",
    "    losses.append(loss)\n",
    "\n",
    "    print(f\"Step {step}, Avg. Returns: {np.mean(trajectory_returns):.3f} +/- {np.std(trajectory_returns):.3f}, Median: {np.median(trajectory_returns):.3f}, Q-Network Loss: {losses[-1]:.3f}\")\n",
    "\n",
    "    step += 1"
   ]
  },
  {
   "cell_type": "code",
   "execution_count": null,
   "metadata": {},
   "outputs": [],
   "source": [
    "env.close()"
   ]
  },
  {
   "attachments": {},
   "cell_type": "markdown",
   "metadata": {},
   "source": [
    "Let's visualize the policy we learned:"
   ]
  },
  {
   "cell_type": "code",
   "execution_count": null,
   "metadata": {},
   "outputs": [
    {
     "name": "stderr",
     "output_type": "stream",
     "text": [
      "Known pipe types:\n",
      "  glxGraphicsPipe\n",
      "(1 aux display modules not yet loaded.)\n",
      ":task(warning): Creating implicit AsyncTaskChain default for AsyncTaskManager TaskManager\n"
     ]
    },
    {
     "name": "stdout",
     "output_type": "stream",
     "text": [
      "Reward: 64.83419519862899\n"
     ]
    }
   ],
   "source": [
    "env = gym.make(\"MetaDrive-topdown\", config={\"use_render\": True, \"horizon\": 500, \"num_scenarios\": 100})\n",
    "transitions = collect_trajectory(env, QPolicy(primary_q_network, epsilon=0.0))\n",
    "env.close()\n",
    "\n",
    "rew = [t.reward for t in transitions]\n",
    "\n",
    "print(\"Reward:\", sum(rew))"
   ]
  },
  {
   "attachments": {},
   "cell_type": "markdown",
   "metadata": {},
   "source": [
    "For us, the learned policy consisted pretty much of just going straight at full speed. This is because the agent is rewarded for moving forward. DQN never learned to steer."
   ]
  },
  {
   "cell_type": "code",
   "execution_count": null,
   "metadata": {},
   "outputs": [
    {
     "data": {
      "image/png": "[encoded data removed]",
      "text/plain": [
       "<Figure size 640x480 with 1 Axes>"
      ]
     },
     "metadata": {},
     "output_type": "display_data"
    }
   ],
   "source": [
    "import matplotlib.pyplot as plt\n",
    "return_medians = [np.median(returns[i]) for i in range(len(returns))]\n",
    "return_means = [np.mean(returns[i]) for i in range(len(returns))]\n",
    "return_stds = [np.std(returns[i]) for i in range(len(returns))]\n",
    "plt.plot(return_medians, label=\"Median\")\n",
    "plt.plot(return_means, label=\"Mean\")\n",
    "plt.fill_between(range(len(return_means)), np.array(return_means) - np.array(return_stds), np.array(return_means) + np.array(return_stds), alpha=0.3)\n",
    "plt.xlabel(\"Epoch\")\n",
    "plt.ylabel(\"Average Return\")\n",
    "plt.legend()\n",
    "plt.show()"
   ]
  },
  {
   "cell_type": "code",
   "execution_count": null,
   "metadata": {},
   "outputs": [
    {
     "data": {
      "text/plain": [
       "<matplotlib.collections.PathCollection at 0x7fc2eead9e10>"
      ]
     },
     "execution_count": 24,
     "metadata": {},
     "output_type": "execute_result"
    },
    {
     "data": {
      "image/png": "[encoded data removed]",
      "text/plain": [
       "<Figure size 640x480 with 1 Axes>"
      ]
     },
     "metadata": {},
     "output_type": "display_data"
    }
   ],
   "source": [
    "# scatter plot of the returns\n",
    "xs = []\n",
    "ys = []\n",
    "for t, rets in enumerate(returns):\n",
    "    for ret in rets:\n",
    "        xs.append(t)\n",
    "        ys.append(ret)\n",
    "plt.scatter(xs, ys, alpha=0.2)"
   ]
  }
 ],
 "metadata": {
  "kernelspec": {
   "display_name": "Python 3",
   "language": "python",
   "name": "python3"
  },
  "language_info": {
   "codemirror_mode": {
    "name": "ipython",
    "version": 3
   },
   "file_extension": ".py",
   "mimetype": "text/x-python",
   "name": "python",
   "nbconvert_exporter": "python",
   "pygments_lexer": "ipython3",
   "version": "3.11.3"
  },
  "orig_nbformat": 4
 },
 "nbformat": 4,
 "nbformat_minor": 2
}
